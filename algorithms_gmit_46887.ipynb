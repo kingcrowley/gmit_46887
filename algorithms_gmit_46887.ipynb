{
 "cells": [
  {
   "cell_type": "code",
   "execution_count": 3,
   "metadata": {},
   "outputs": [],
   "source": [
    "# imports\n",
    "import copy\n",
    "import time\n",
    "from numpy.random import randint"
   ]
  },
  {
   "cell_type": "code",
   "execution_count": 2,
   "metadata": {},
   "outputs": [
    {
     "name": "stdout",
     "output_type": "stream",
     "text": [
      "0.0040962457656860355 0.02417759895324707 0.11089706420898438 0.30082087516784667 0.6415049314498902 1.2764157056808472 3.2211116313934327 6.648831248283386 10.849933886528015 17.853136277198793 24.372887802124023 35.47878413200378 50.79907052516937\n"
     ]
    }
   ],
   "source": [
    "# http://interactivepython.org/runestone/static/pythonds/SortSearch/TheBubbleSort.html\n",
    "def bubbleSort(alist):\n",
    "    for passnum in range(len(alist)-1,0,-1):\n",
    "        for i in range(passnum):\n",
    "            if alist[i]>alist[i+1]:\n",
    "                temp = alist[i]\n",
    "                alist[i] = alist[i+1]\n",
    "                alist[i+1] = temp\n",
    "\n",
    "\n",
    "def generate(size):\n",
    "    totalRunTime = 0\n",
    "    for i in range(0,10):\n",
    "        size10 = randint(0,10,size)\n",
    "        #print(size10)\n",
    "        start_time = time.time()\n",
    "        bubbleSort(size10)\n",
    "        end_time = time.time()\n",
    "        currentRunTime = end_time - start_time\n",
    "        # print(currentRunTime)\n",
    "        #print(size10)\n",
    "        totalRunTime += currentRunTime\n",
    "        \n",
    "    # print(\"*******************************\")\t\n",
    "    averageRunTime = totalRunTime/10\n",
    "    # print(averageRunTime)\n",
    "    return averageRunTime\n",
    "    \n",
    "# 100 250 500 750 1000 1250 2500 3750 5000 6250 7500 8750 10000\n",
    "output = \"\"\n",
    "output += str(generate(100))\n",
    "output += \" \" +  str(generate(250)) \n",
    "output += \" \" +  str(generate(500))\n",
    "output += \" \" +  str(generate(750))\n",
    "output += \" \" +  str(generate(1000))\n",
    "output += \" \" +  str(generate(1250))\n",
    "output += \" \" +  str(generate(2500))\n",
    "output += \" \" +  str(generate(3750))\n",
    "output += \" \" +  str(generate(5000))\n",
    "output += \" \" +  str(generate(6250))\n",
    "output += \" \" +  str(generate(7500))\n",
    "output += \" \" +  str(generate(8750))\n",
    "output += \" \" +  str(generate(10000))\n",
    "\n",
    "print(output)"
   ]
  },
  {
   "cell_type": "code",
   "execution_count": 4,
   "metadata": {},
   "outputs": [
    {
     "name": "stdout",
     "output_type": "stream",
     "text": [
      "0.0006010770797729492\n"
     ]
    }
   ],
   "source": [
    "# Python program for implementation of MergeSort \n",
    "# https://www.geeksforgeeks.org/merge-sort/\n",
    "def mergeSort(arr): \n",
    "\tif len(arr) >1: \n",
    "\t\tmid = len(arr)//2 #Finding the mid of the array \n",
    "\t\tL = arr[:mid] # Dividing the array elements \n",
    "\t\tR = arr[mid:] # into 2 halves \n",
    "\n",
    "\t\tmergeSort(L) # Sorting the first half \n",
    "\t\tmergeSort(R) # Sorting the second half \n",
    "\n",
    "\t\ti = j = k = 0\n",
    "\t\t\n",
    "\t\t# Copy data to temp arrays L[] and R[] \n",
    "\t\twhile i < len(L) and j < len(R): \n",
    "\t\t\tif L[i] < R[j]: \n",
    "\t\t\t\tarr[k] = L[i] \n",
    "\t\t\t\ti+=1\n",
    "\t\t\telse: \n",
    "\t\t\t\tarr[k] = R[j] \n",
    "\t\t\t\tj+=1\n",
    "\t\t\tk+=1\n",
    "\t\t\n",
    "\t\t# Checking if any element was left \n",
    "\t\twhile i < len(L): \n",
    "\t\t\tarr[k] = L[i] \n",
    "\t\t\ti+=1\n",
    "\t\t\tk+=1\n",
    "\t\t\n",
    "\t\twhile j < len(R): \n",
    "\t\t\tarr[k] = R[j] \n",
    "\t\t\tj+=1\n",
    "\t\t\tk+=1\n",
    "def generate(size):\n",
    "    totalRunTime = 0\n",
    "    for i in range(0,10):\n",
    "        size10 = randint(0,10,size)\n",
    "        #print(size10)\n",
    "        start_time = time.time()\n",
    "        mergeSort(size10)\n",
    "        end_time = time.time()\n",
    "        currentRunTime = end_time - start_time\n",
    "        # print(currentRunTime)\n",
    "        #print(size10)\n",
    "        totalRunTime += currentRunTime\n",
    "        \n",
    "    # print(\"*******************************\")\t\n",
    "    averageRunTime = totalRunTime/10\n",
    "    # print(averageRunTime)\n",
    "    return averageRunTime\n",
    "    \n",
    "# 100 250 500 750 1000 1250 2500 3750 5000 6250 7500 8750 10000\n",
    "output = \"\"\n",
    "output += str(generate(100))\n",
    "output += str(generate(100))\n",
    "output += \" \" +  str(generate(250)) \n",
    "output += \" \" +  str(generate(500))\n",
    "output += \" \" +  str(generate(750))\n",
    "output += \" \" +  str(generate(1000))\n",
    "output += \" \" +  str(generate(1250))\n",
    "output += \" \" +  str(generate(2500))\n",
    "output += \" \" +  str(generate(3750))\n",
    "output += \" \" +  str(generate(5000))\n",
    "output += \" \" +  str(generate(6250))\n",
    "output += \" \" +  str(generate(7500))\n",
    "output += \" \" +  str(generate(8750))\n",
    "output += \" \" +  str(generate(10000))\n",
    "\n",
    "print(output)"
   ]
  },
  {
   "cell_type": "code",
   "execution_count": null,
   "metadata": {},
   "outputs": [],
   "source": []
  }
 ],
 "metadata": {
  "kernelspec": {
   "display_name": "Python 3",
   "language": "python",
   "name": "python3"
  },
  "language_info": {
   "codemirror_mode": {
    "name": "ipython",
    "version": 3
   },
   "file_extension": ".py",
   "mimetype": "text/x-python",
   "name": "python",
   "nbconvert_exporter": "python",
   "pygments_lexer": "ipython3",
   "version": "3.7.3"
  }
 },
 "nbformat": 4,
 "nbformat_minor": 2
}
