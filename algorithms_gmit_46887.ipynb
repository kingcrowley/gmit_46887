{
 "cells": [
  {
   "cell_type": "code",
   "execution_count": 1,
   "metadata": {},
   "outputs": [],
   "source": [
    "# imports\n",
    "import copy\n",
    "import time\n",
    "from numpy.random import randint"
   ]
  },
  {
   "cell_type": "code",
   "execution_count": 2,
   "metadata": {},
   "outputs": [
    {
     "name": "stdout",
     "output_type": "stream",
     "text": [
      "0.0040962457656860355 0.02417759895324707 0.11089706420898438 0.30082087516784667 0.6415049314498902 1.2764157056808472 3.2211116313934327 6.648831248283386 10.849933886528015 17.853136277198793 24.372887802124023 35.47878413200378 50.79907052516937\n"
     ]
    }
   ],
   "source": [
    "# http://interactivepython.org/runestone/static/pythonds/SortSearch/TheBubbleSort.html\n",
    "def bubbleSort(alist):\n",
    "    for passnum in range(len(alist)-1,0,-1):\n",
    "        for i in range(passnum):\n",
    "            if alist[i]>alist[i+1]:\n",
    "                temp = alist[i]\n",
    "                alist[i] = alist[i+1]\n",
    "                alist[i+1] = temp\n",
    "\n",
    "\n",
    "def generate(size):\n",
    "    totalRunTime = 0\n",
    "    for i in range(0,10):\n",
    "        size10 = randint(0,10,size)\n",
    "        #print(size10)\n",
    "        start_time = time.time()\n",
    "        bubbleSort(size10)\n",
    "        end_time = time.time()\n",
    "        currentRunTime = end_time - start_time\n",
    "        # print(currentRunTime)\n",
    "        #print(size10)\n",
    "        totalRunTime += currentRunTime\n",
    "        \n",
    "    # print(\"*******************************\")\t\n",
    "    averageRunTime = totalRunTime/10\n",
    "    # print(averageRunTime)\n",
    "    return averageRunTime\n",
    "    \n",
    "# 100 250 500 750 1000 1250 2500 3750 5000 6250 7500 8750 10000\n",
    "output = \"\"\n",
    "output += str(generate(100))\n",
    "output += \" \" +  str(generate(250)) \n",
    "output += \" \" +  str(generate(500))\n",
    "output += \" \" +  str(generate(750))\n",
    "output += \" \" +  str(generate(1000))\n",
    "output += \" \" +  str(generate(1250))\n",
    "output += \" \" +  str(generate(2500))\n",
    "output += \" \" +  str(generate(3750))\n",
    "output += \" \" +  str(generate(5000))\n",
    "output += \" \" +  str(generate(6250))\n",
    "output += \" \" +  str(generate(7500))\n",
    "output += \" \" +  str(generate(8750))\n",
    "output += \" \" +  str(generate(10000))\n",
    "\n",
    "print(output)"
   ]
  },
  {
   "cell_type": "code",
   "execution_count": null,
   "metadata": {},
   "outputs": [],
   "source": []
  }
 ],
 "metadata": {
  "kernelspec": {
   "display_name": "Python 3",
   "language": "python",
   "name": "python3"
  },
  "language_info": {
   "codemirror_mode": {
    "name": "ipython",
    "version": 3
   },
   "file_extension": ".py",
   "mimetype": "text/x-python",
   "name": "python",
   "nbconvert_exporter": "python",
   "pygments_lexer": "ipython3",
   "version": "3.6.7"
  }
 },
 "nbformat": 4,
 "nbformat_minor": 2
}
