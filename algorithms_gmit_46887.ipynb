{
 "cells": [
  {
   "cell_type": "code",
   "execution_count": 1,
   "metadata": {},
   "outputs": [],
   "source": [
    "# imports\n",
    "import copy\n",
    "import time\n",
    "from numpy.random import randint"
   ]
  },
  {
   "cell_type": "code",
   "execution_count": 2,
   "metadata": {},
   "outputs": [
    {
     "name": "stdout",
     "output_type": "stream",
     "text": [
      "[3 3 8 3 2 0 2 9 5 7]\n",
      "0.0\n",
      "[0 2 2 3 3 3 5 7 8 9]\n",
      "[9 0 7 4 9 8 6 7 7 7]\n",
      "0.0\n",
      "[0 4 6 7 7 7 7 8 9 9]\n",
      "[6 4 5 5 1 6 0 5 9 0]\n",
      "0.0\n",
      "[0 0 1 4 5 5 5 6 6 9]\n",
      "[7 0 6 2 6 0 3 8 1 1]\n",
      "0.0\n",
      "[0 0 1 1 2 3 6 6 7 8]\n",
      "[7 6 9 0 1 6 1 5 3 6]\n",
      "0.0\n",
      "[0 1 1 3 5 6 6 6 7 9]\n",
      "[6 0 0 2 7 6 2 0 6 3]\n",
      "0.0\n",
      "[0 0 0 2 2 3 6 6 6 7]\n",
      "[7 7 2 3 9 2 7 0 4 9]\n",
      "0.0\n",
      "[0 2 2 3 4 7 7 7 9 9]\n",
      "[6 7 3 9 4 3 5 7 0 0]\n",
      "0.0\n",
      "[0 0 3 3 4 5 6 7 7 9]\n",
      "[9 4 5 7 3 5 0 6 2 4]\n",
      "0.0\n",
      "[0 2 3 4 4 5 5 6 7 9]\n",
      "[0 2 1 3 7 1 2 2 1 9]\n",
      "0.0\n",
      "[0 1 1 1 2 2 2 3 7 9]\n",
      "*******************************\n",
      "0.0\n"
     ]
    }
   ],
   "source": [
    "# http://interactivepython.org/runestone/static/pythonds/SortSearch/TheBubbleSort.html\n",
    "def bubbleSort(alist):\n",
    "    for passnum in range(len(alist)-1,0,-1):\n",
    "        for i in range(passnum):\n",
    "            if alist[i]>alist[i+1]:\n",
    "                temp = alist[i]\n",
    "                alist[i] = alist[i+1]\n",
    "                alist[i+1] = temp\n",
    "totalRunTime = 0\n",
    "\n",
    "for i in range(0,10):\n",
    "\tsize10 = randint(0,10,10)\n",
    "\tprint(size10)\n",
    "\tstart_time = time.time()\n",
    "\tbubbleSort(size10)\n",
    "\tend_time = time.time()\n",
    "\tcurrentRunTime = end_time - start_time\n",
    "\tprint(currentRunTime)\n",
    "\tprint(size10)\n",
    "\ttotalRunTime += currentRunTime\n",
    "print(\"*******************************\")\t\n",
    "averageRunTime = totalRunTime/10\n",
    "print(averageRunTime)"
   ]
  },
  {
   "cell_type": "code",
   "execution_count": null,
   "metadata": {},
   "outputs": [],
   "source": []
  }
 ],
 "metadata": {
  "kernelspec": {
   "display_name": "Python 3",
   "language": "python",
   "name": "python3"
  },
  "language_info": {
   "codemirror_mode": {
    "name": "ipython",
    "version": 3
   },
   "file_extension": ".py",
   "mimetype": "text/x-python",
   "name": "python",
   "nbconvert_exporter": "python",
   "pygments_lexer": "ipython3",
   "version": "3.6.7"
  }
 },
 "nbformat": 4,
 "nbformat_minor": 2
}
