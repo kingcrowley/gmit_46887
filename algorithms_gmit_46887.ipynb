{
 "cells": [
  {
   "cell_type": "code",
   "execution_count": 1,
   "metadata": {},
   "outputs": [],
   "source": [
    "# imports\n",
    "import copy\n",
    "import time\n",
    "from numpy.random import randint"
   ]
  },
  {
   "cell_type": "code",
   "execution_count": 3,
   "metadata": {},
   "outputs": [
    {
     "name": "stdout",
     "output_type": "stream",
     "text": [
      "0.4226059913635254\n",
      "0.4146149158477783\n",
      "0.49254417419433594\n",
      "0.4305999279022217\n",
      "0.33768653869628906\n",
      "0.458573579788208\n",
      "0.46157193183898926\n",
      "0.4016268253326416\n",
      "0.41761255264282227\n",
      "0.41761279106140137\n",
      "*******************************\n",
      "0.4255049228668213\n"
     ]
    }
   ],
   "source": [
    "# http://interactivepython.org/runestone/static/pythonds/SortSearch/TheBubbleSort.html\n",
    "def bubbleSort(alist):\n",
    "    for passnum in range(len(alist)-1,0,-1):\n",
    "        for i in range(passnum):\n",
    "            if alist[i]>alist[i+1]:\n",
    "                temp = alist[i]\n",
    "                alist[i] = alist[i+1]\n",
    "                alist[i+1] = temp\n",
    "totalRunTime = 0\n",
    "\n",
    "for i in range(0,10):\n",
    "\tsize10 = randint(0,10,1000)\n",
    "\t#print(size10)\n",
    "\tstart_time = time.time()\n",
    "\tbubbleSort(size10)\n",
    "\tend_time = time.time()\n",
    "\tcurrentRunTime = end_time - start_time\n",
    "\tprint(currentRunTime)\n",
    "\t#print(size10)\n",
    "\ttotalRunTime += currentRunTime\n",
    "print(\"*******************************\")\t\n",
    "averageRunTime = totalRunTime/10\n",
    "print(averageRunTime)"
   ]
  },
  {
   "cell_type": "code",
   "execution_count": null,
   "metadata": {},
   "outputs": [],
   "source": []
  }
 ],
 "metadata": {
  "kernelspec": {
   "display_name": "Python 3",
   "language": "python",
   "name": "python3"
  },
  "language_info": {
   "codemirror_mode": {
    "name": "ipython",
    "version": 3
   },
   "file_extension": ".py",
   "mimetype": "text/x-python",
   "name": "python",
   "nbconvert_exporter": "python",
   "pygments_lexer": "ipython3",
   "version": "3.6.7"
  }
 },
 "nbformat": 4,
 "nbformat_minor": 2
}
